{
 "cells": [
  {
   "cell_type": "markdown",
   "metadata": {},
   "source": [
    "# Importing Dependencies"
   ]
  },
  {
   "cell_type": "code",
   "execution_count": 1,
   "metadata": {},
   "outputs": [
    {
     "name": "stdout",
     "output_type": "stream",
     "text": [
      "Unhealthy    432\n",
      "Healthy       77\n",
      "Name: Reason, dtype: int64\n"
     ]
    }
   ],
   "source": [
    "import numpy as np\n",
    "import pandas as pd\n",
    "import matplotlib.pyplot as plt\n",
    "import seaborn as sns\n",
    "from sklearn.model_selection import train_test_split\n",
    "from sklearn.ensemble import RandomForestClassifier\n",
    "from sklearn.linear_model import LogisticRegression\n",
    "from sklearn.tree import DecisionTreeClassifier\n",
    "from sklearn.ensemble import RandomForestClassifier\n",
    "from sklearn.naive_bayes import GaussianNB\n",
    "from imblearn.over_sampling import ADASYN\n",
    "from imblearn.pipeline import Pipeline\n",
    "from sklearn.model_selection import cross_val_score\n",
    "from sklearn.metrics import accuracy_score, confusion_matrix, classification_report\n",
    "\n",
    "# loading data\n",
    "df = pd.read_csv('dataforml.csv')\n",
    "df.head()\n",
    "\n",
    "# check for class imbalance\n",
    "print(df['Reason'].value_counts())\n",
    "\n",
    "# data processing\n",
    "df = pd.get_dummies(df, columns=['Gender']) # convert categorical data to numerical\n",
    "\n",
    "# split data into features and target\n",
    "X = df.drop(columns=[\"Reason\",\"Fileno\"], axis=1)\n",
    "Y = df[\"Reason\"]\n",
    "\n",
    "# split data into training and testing sets\n",
    "X_train, X_test, Y_train, Y_test = train_test_split(X, Y, test_size=0.2, random_state=100)"
   ]
  },
  {
   "cell_type": "markdown",
   "metadata": {},
   "source": [
    "# Define Models"
   ]
  },
  {
   "cell_type": "code",
   "execution_count": 2,
   "metadata": {},
   "outputs": [],
   "source": [
    "# define model\n",
    "#model= LogisticRegression(max_iter=3000)\n",
    "#model= DecisionTreeClassifier() \n",
    "model= GaussianNB()\n",
    "#model = RandomForestClassifier()"
   ]
  },
  {
   "cell_type": "markdown",
   "metadata": {},
   "source": [
    "# Define Pipeline "
   ]
  },
  {
   "cell_type": "code",
   "execution_count": 3,
   "metadata": {},
   "outputs": [
    {
     "name": "stdout",
     "output_type": "stream",
     "text": [
      "Mean ROC AUC: 0.8206546360616128\n",
      "Confusion Matrix:\n",
      "[[12  2]\n",
      " [14 74]]\n",
      "              precision    recall  f1-score   support\n",
      "\n",
      "     Healthy       0.46      0.86      0.60        14\n",
      "   Unhealthy       0.97      0.84      0.90        88\n",
      "\n",
      "    accuracy                           0.84       102\n",
      "   macro avg       0.72      0.85      0.75       102\n",
      "weighted avg       0.90      0.84      0.86       102\n",
      "\n",
      "Accuracy: 0.8431372549019608\n"
     ]
    },
    {
     "data": {
      "image/png": "[encoded data removed]",
      "text/plain": [
       "<Figure size 720x504 with 2 Axes>"
      ]
     },
     "metadata": {
      "needs_background": "light"
     },
     "output_type": "display_data"
    }
   ],
   "source": [
    "# define pipeline\n",
    "steps = [('over', ADASYN()),('model', model)]\n",
    "pipeline = Pipeline(steps=steps)\n",
    "\n",
    "# evaluate pipeline using cross-validation\n",
    "scores = cross_val_score(pipeline, X, Y, scoring='roc_auc', cv=10, n_jobs=-1)\n",
    "mean_score = np.mean(scores)\n",
    "print('Mean ROC AUC:', mean_score)\n",
    "\n",
    "# fit model on training data and make predictions on test data\n",
    "model.fit(X_train, Y_train)\n",
    "predictions = model.predict(X_test)\n",
    "\n",
    "# print metrics\n",
    "print('Confusion Matrix:')\n",
    "print(confusion_matrix(Y_test, predictions))\n",
    "print(classification_report(Y_test, predictions))\n",
    "print('Accuracy:', accuracy_score(Y_test, predictions))\n",
    "\n",
    "# plot confusion matrix\n",
    "cm = confusion_matrix(Y_test, predictions)\n",
    "plt.figure(figsize=(10, 7))\n",
    "sns.heatmap(cm, annot=True, cmap='Reds', fmt='g')\n",
    "plt.title('Confusion matrix: GaussianNB')\n",
    "plt.xlabel('Predicted Values')\n",
    "plt.ylabel('Actual Values')\n",
    "plt.show()"
   ]
  },
  {
   "cell_type": "code",
   "execution_count": null,
   "metadata": {},
   "outputs": [],
   "source": []
  },
  {
   "cell_type": "code",
   "execution_count": null,
   "metadata": {},
   "outputs": [],
   "source": []
  }
 ],
 "metadata": {
  "kernelspec": {
   "display_name": "Python 3",
   "language": "python",
   "name": "python3"
  },
  "language_info": {
   "codemirror_mode": {
    "name": "ipython",
    "version": 3
   },
   "file_extension": ".py",
   "mimetype": "text/x-python",
   "name": "python",
   "nbconvert_exporter": "python",
   "pygments_lexer": "ipython3",
   "version": "3.7.7"
  }
 },
 "nbformat": 4,
 "nbformat_minor": 2
}
