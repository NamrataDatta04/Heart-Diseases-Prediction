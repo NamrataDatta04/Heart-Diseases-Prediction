{
 "cells": [
  {
   "cell_type": "markdown",
   "metadata": {},
   "source": [
    "## Importing dependecies"
   ]
  },
  {
   "cell_type": "code",
   "execution_count": 19,
   "metadata": {},
   "outputs": [],
   "source": [
    "#importing dependencies \n",
    "import numpy as np\n",
    "import pandas as pd\n",
    "import matplotlib.pyplot as plt\n",
    "from sklearn.model_selection import train_test_split\n",
    "\n",
    "#from sklearn.linear_model import LogisticRegression\n",
    "#from sklearn.tree import DecisionTreeClassifier\n",
    "from sklearn.ensemble import RandomForestClassifier\n",
    "from sklearn.naive_bayes import GaussianNB\n",
    "\n",
    "\n",
    "from sklearn.metrics import accuracy_score\n",
    "from sklearn.metrics import confusion_matrix"
   ]
  },
  {
   "cell_type": "markdown",
   "metadata": {},
   "source": [
    "## Loading data"
   ]
  },
  {
   "cell_type": "code",
   "execution_count": 2,
   "metadata": {},
   "outputs": [
    {
     "data": {
      "text/plain": [
       "Unhealthy    432\n",
       "Healthy       77\n",
       "Name: Reason, dtype: int64"
      ]
     },
     "execution_count": 2,
     "metadata": {},
     "output_type": "execute_result"
    }
   ],
   "source": [
    "#loading data\n",
    "\n",
    "df= pd.read_csv('dataforml.csv')\n",
    "df.head()\n",
    "\n",
    "df['Reason'].value_counts() #dataset imbalanced\n"
   ]
  },
  {
   "cell_type": "markdown",
   "metadata": {},
   "source": [
    "## One-hot encoding"
   ]
  },
  {
   "cell_type": "code",
   "execution_count": 3,
   "metadata": {},
   "outputs": [
    {
     "data": {
      "text/html": [
       "<div>\n",
       "<style scoped>\n",
       "    .dataframe tbody tr th:only-of-type {\n",
       "        vertical-align: middle;\n",
       "    }\n",
       "\n",
       "    .dataframe tbody tr th {\n",
       "        vertical-align: top;\n",
       "    }\n",
       "\n",
       "    .dataframe thead th {\n",
       "        text-align: right;\n",
       "    }\n",
       "</style>\n",
       "<table border=\"1\" class=\"dataframe\">\n",
       "  <thead>\n",
       "    <tr style=\"text-align: right;\">\n",
       "      <th></th>\n",
       "      <th>Fileno</th>\n",
       "      <th>AGE</th>\n",
       "      <th>avgampP</th>\n",
       "      <th>deltaampP</th>\n",
       "      <th>avgampQ</th>\n",
       "      <th>deltaampQ</th>\n",
       "      <th>avgampR</th>\n",
       "      <th>deltaampR</th>\n",
       "      <th>avgampS</th>\n",
       "      <th>deltaampS</th>\n",
       "      <th>...</th>\n",
       "      <th>RS</th>\n",
       "      <th>deltaRS</th>\n",
       "      <th>ST</th>\n",
       "      <th>deltaST</th>\n",
       "      <th>PT</th>\n",
       "      <th>deltaPT</th>\n",
       "      <th>QRS</th>\n",
       "      <th>Reason</th>\n",
       "      <th>Gender_female</th>\n",
       "      <th>Gender_male</th>\n",
       "    </tr>\n",
       "  </thead>\n",
       "  <tbody>\n",
       "    <tr>\n",
       "      <th>0</th>\n",
       "      <td>304</td>\n",
       "      <td>17</td>\n",
       "      <td>0.052477</td>\n",
       "      <td>0.052477</td>\n",
       "      <td>-0.033350</td>\n",
       "      <td>-0.033350</td>\n",
       "      <td>0.234973</td>\n",
       "      <td>0.234973</td>\n",
       "      <td>-0.350938</td>\n",
       "      <td>-0.350938</td>\n",
       "      <td>...</td>\n",
       "      <td>0.018962</td>\n",
       "      <td>0.018962</td>\n",
       "      <td>0.210194</td>\n",
       "      <td>0.210194</td>\n",
       "      <td>0.347453</td>\n",
       "      <td>0.347453</td>\n",
       "      <td>0.091915</td>\n",
       "      <td>Healthy</td>\n",
       "      <td>0</td>\n",
       "      <td>1</td>\n",
       "    </tr>\n",
       "    <tr>\n",
       "      <th>1</th>\n",
       "      <td>354</td>\n",
       "      <td>17</td>\n",
       "      <td>0.037526</td>\n",
       "      <td>0.037526</td>\n",
       "      <td>-0.219386</td>\n",
       "      <td>-0.219386</td>\n",
       "      <td>0.854302</td>\n",
       "      <td>0.854302</td>\n",
       "      <td>-0.061509</td>\n",
       "      <td>-0.061509</td>\n",
       "      <td>...</td>\n",
       "      <td>0.052614</td>\n",
       "      <td>0.052614</td>\n",
       "      <td>0.205434</td>\n",
       "      <td>0.205434</td>\n",
       "      <td>0.398250</td>\n",
       "      <td>0.398250</td>\n",
       "      <td>0.086649</td>\n",
       "      <td>Unhealthy</td>\n",
       "      <td>0</td>\n",
       "      <td>1</td>\n",
       "    </tr>\n",
       "    <tr>\n",
       "      <th>2</th>\n",
       "      <td>341</td>\n",
       "      <td>22</td>\n",
       "      <td>0.052628</td>\n",
       "      <td>0.052628</td>\n",
       "      <td>-0.069949</td>\n",
       "      <td>-0.069949</td>\n",
       "      <td>0.332590</td>\n",
       "      <td>0.332590</td>\n",
       "      <td>-0.519474</td>\n",
       "      <td>-0.519474</td>\n",
       "      <td>...</td>\n",
       "      <td>0.028530</td>\n",
       "      <td>0.028530</td>\n",
       "      <td>0.269500</td>\n",
       "      <td>0.269500</td>\n",
       "      <td>0.457235</td>\n",
       "      <td>0.457235</td>\n",
       "      <td>0.114855</td>\n",
       "      <td>Healthy</td>\n",
       "      <td>1</td>\n",
       "      <td>0</td>\n",
       "    </tr>\n",
       "    <tr>\n",
       "      <th>3</th>\n",
       "      <td>487</td>\n",
       "      <td>24</td>\n",
       "      <td>0.023594</td>\n",
       "      <td>0.023594</td>\n",
       "      <td>-0.194836</td>\n",
       "      <td>-0.194836</td>\n",
       "      <td>1.001275</td>\n",
       "      <td>1.001275</td>\n",
       "      <td>-0.050193</td>\n",
       "      <td>-0.050193</td>\n",
       "      <td>...</td>\n",
       "      <td>0.069041</td>\n",
       "      <td>0.069041</td>\n",
       "      <td>0.223008</td>\n",
       "      <td>0.223008</td>\n",
       "      <td>0.427367</td>\n",
       "      <td>0.427367</td>\n",
       "      <td>0.095582</td>\n",
       "      <td>Healthy</td>\n",
       "      <td>0</td>\n",
       "      <td>1</td>\n",
       "    </tr>\n",
       "    <tr>\n",
       "      <th>4</th>\n",
       "      <td>488</td>\n",
       "      <td>24</td>\n",
       "      <td>0.036480</td>\n",
       "      <td>0.036480</td>\n",
       "      <td>-0.059524</td>\n",
       "      <td>-0.059524</td>\n",
       "      <td>0.313347</td>\n",
       "      <td>0.313347</td>\n",
       "      <td>-0.392855</td>\n",
       "      <td>-0.392855</td>\n",
       "      <td>...</td>\n",
       "      <td>0.031597</td>\n",
       "      <td>0.031597</td>\n",
       "      <td>0.233797</td>\n",
       "      <td>0.233797</td>\n",
       "      <td>0.461967</td>\n",
       "      <td>0.461967</td>\n",
       "      <td>0.071177</td>\n",
       "      <td>Healthy</td>\n",
       "      <td>0</td>\n",
       "      <td>1</td>\n",
       "    </tr>\n",
       "  </tbody>\n",
       "</table>\n",
       "<p>5 rows × 26 columns</p>\n",
       "</div>"
      ],
      "text/plain": [
       "   Fileno  AGE   avgampP  deltaampP   avgampQ  deltaampQ   avgampR  deltaampR  \\\n",
       "0     304   17  0.052477   0.052477 -0.033350  -0.033350  0.234973   0.234973   \n",
       "1     354   17  0.037526   0.037526 -0.219386  -0.219386  0.854302   0.854302   \n",
       "2     341   22  0.052628   0.052628 -0.069949  -0.069949  0.332590   0.332590   \n",
       "3     487   24  0.023594   0.023594 -0.194836  -0.194836  1.001275   1.001275   \n",
       "4     488   24  0.036480   0.036480 -0.059524  -0.059524  0.313347   0.313347   \n",
       "\n",
       "    avgampS  deltaampS     ...             RS   deltaRS        ST   deltaST  \\\n",
       "0 -0.350938  -0.350938     ...       0.018962  0.018962  0.210194  0.210194   \n",
       "1 -0.061509  -0.061509     ...       0.052614  0.052614  0.205434  0.205434   \n",
       "2 -0.519474  -0.519474     ...       0.028530  0.028530  0.269500  0.269500   \n",
       "3 -0.050193  -0.050193     ...       0.069041  0.069041  0.223008  0.223008   \n",
       "4 -0.392855  -0.392855     ...       0.031597  0.031597  0.233797  0.233797   \n",
       "\n",
       "        PT    deltaPT       QRS     Reason  Gender_female  Gender_male  \n",
       "0  0.347453  0.347453  0.091915    Healthy              0            1  \n",
       "1  0.398250  0.398250  0.086649  Unhealthy              0            1  \n",
       "2  0.457235  0.457235  0.114855    Healthy              1            0  \n",
       "3  0.427367  0.427367  0.095582    Healthy              0            1  \n",
       "4  0.461967  0.461967  0.071177    Healthy              0            1  \n",
       "\n",
       "[5 rows x 26 columns]"
      ]
     },
     "execution_count": 3,
     "metadata": {},
     "output_type": "execute_result"
    }
   ],
   "source": [
    "#data processing\n",
    "df = pd.get_dummies(df,columns = ['Gender']) #categorical data converted to numerical\n",
    "df.head()"
   ]
  },
  {
   "cell_type": "markdown",
   "metadata": {},
   "source": [
    "## Splitting Datasets"
   ]
  },
  {
   "cell_type": "code",
   "execution_count": 4,
   "metadata": {},
   "outputs": [
    {
     "name": "stdout",
     "output_type": "stream",
     "text": [
      "(509, 25) (407, 25) (102, 25)\n"
     ]
    }
   ],
   "source": [
    "#splitting target and features\n",
    "\n",
    "X = df.drop(columns=\"Reason\",axis=1)\n",
    "Y = df[\"Reason\"]\n",
    "\n",
    "\n",
    "#splitting dataset into test and training set\n",
    "X_train, X_test, Y_train, Y_test = train_test_split(X, Y, test_size=0.2, stratify=Y, random_state=2)\n",
    "print(X.shape,X_train.shape, X_test.shape)\n",
    "\n"
   ]
  },
  {
   "cell_type": "markdown",
   "metadata": {},
   "source": [
    "## Logistic Regression"
   ]
  },
  {
   "cell_type": "code",
   "execution_count": 5,
   "metadata": {},
   "outputs": [],
   "source": [
    "#logisticregression\n",
    "#model= LogisticRegression()\n",
    "#model.fit(X_train, Y_train)"
   ]
  },
  {
   "cell_type": "markdown",
   "metadata": {},
   "source": [
    "## Decision Tree"
   ]
  },
  {
   "cell_type": "code",
   "execution_count": 11,
   "metadata": {},
   "outputs": [],
   "source": [
    "#model= DecisionTreeClassifier()\n",
    "#model.fit(X_train, Y_train)"
   ]
  },
  {
   "cell_type": "markdown",
   "metadata": {},
   "source": [
    "## Random Forest"
   ]
  },
  {
   "cell_type": "code",
   "execution_count": 12,
   "metadata": {},
   "outputs": [
    {
     "data": {
      "text/plain": [
       "RandomForestClassifier(bootstrap=True, class_weight=None, criterion='gini',\n",
       "            max_depth=None, max_features='auto', max_leaf_nodes=None,\n",
       "            min_impurity_decrease=0.0, min_impurity_split=None,\n",
       "            min_samples_leaf=1, min_samples_split=2,\n",
       "            min_weight_fraction_leaf=0.0, n_estimators=10, n_jobs=1,\n",
       "            oob_score=False, random_state=None, verbose=0,\n",
       "            warm_start=False)"
      ]
     },
     "execution_count": 12,
     "metadata": {},
     "output_type": "execute_result"
    }
   ],
   "source": [
    "#model= RandomForestClassifier()\n",
    "#model.fit(X_train, Y_train)"
   ]
  },
  {
   "cell_type": "markdown",
   "metadata": {},
   "source": [
    "## Naive Bayes"
   ]
  },
  {
   "cell_type": "code",
   "execution_count": 21,
   "metadata": {},
   "outputs": [
    {
     "data": {
      "text/plain": [
       "GaussianNB(priors=None)"
      ]
     },
     "execution_count": 21,
     "metadata": {},
     "output_type": "execute_result"
    }
   ],
   "source": [
    "model= GaussianNB()\n",
    "model.fit(X_train, Y_train)"
   ]
  },
  {
   "cell_type": "markdown",
   "metadata": {},
   "source": [
    "## Model Evaluation"
   ]
  },
  {
   "cell_type": "code",
   "execution_count": 22,
   "metadata": {},
   "outputs": [
    {
     "name": "stdout",
     "output_type": "stream",
     "text": [
      "[[ 52  43]\n",
      " [ 10 302]]\n",
      "Accuracy:  0.8697788697788698\n"
     ]
    }
   ],
   "source": [
    "#TRAIN\n",
    "X_train_prediction = model.predict(X_train)\n",
    "training_accuracy = accuracy_score(X_train_prediction, Y_train)\n",
    "print(confusion_matrix(X_train_prediction, Y_train))\n",
    "print('Accuracy: ',training_accuracy)\n"
   ]
  },
  {
   "cell_type": "code",
   "execution_count": 23,
   "metadata": {},
   "outputs": [
    {
     "name": "stdout",
     "output_type": "stream",
     "text": [
      "[[13 15]\n",
      " [ 2 72]]\n",
      "Accuracy:  0.8333333333333334\n"
     ]
    }
   ],
   "source": [
    "#TEST\n",
    "X_test_prediction = model.predict(X_test)\n",
    "testing_accuracy = accuracy_score(X_test_prediction, Y_test)\n",
    "print(confusion_matrix(X_test_prediction, Y_test))\n",
    "print('Accuracy: ',testing_accuracy)"
   ]
  },
  {
   "cell_type": "code",
   "execution_count": null,
   "metadata": {},
   "outputs": [],
   "source": []
  }
 ],
 "metadata": {
  "kernelspec": {
   "display_name": "Python 3",
   "language": "python",
   "name": "python3"
  },
  "language_info": {
   "codemirror_mode": {
    "name": "ipython",
    "version": 3
   },
   "file_extension": ".py",
   "mimetype": "text/x-python",
   "name": "python",
   "nbconvert_exporter": "python",
   "pygments_lexer": "ipython3",
   "version": "3.7.7"
  }
 },
 "nbformat": 4,
 "nbformat_minor": 2
}
