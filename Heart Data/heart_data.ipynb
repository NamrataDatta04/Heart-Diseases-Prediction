{
 "cells": [
  {
   "cell_type": "markdown",
   "metadata": {},
   "source": [
    "## Importing dependecies"
   ]
  },
  {
   "cell_type": "code",
   "execution_count": 1,
   "metadata": {},
   "outputs": [],
   "source": [
    "#importing dependencies \n",
    "import numpy as np\n",
    "import pandas as pd\n",
    "import matplotlib.pyplot as plt\n",
    "import seaborn as sns\n",
    "\n",
    "from sklearn.model_selection import train_test_split\n",
    "from sklearn.model_selection import StratifiedKFold, cross_val_score\n",
    "\n",
    "from sklearn.linear_model import LogisticRegression\n",
    "from sklearn.tree import DecisionTreeClassifier\n",
    "from sklearn.ensemble import RandomForestClassifier\n",
    "from sklearn.naive_bayes import GaussianNB\n",
    "from imblearn.over_sampling import ADASYN\n",
    "from imblearn.over_sampling import SMOTE\n",
    "\n",
    "\n",
    "from sklearn.metrics import accuracy_score\n",
    "from sklearn.metrics import confusion_matrix\n",
    "from sklearn.metrics import classification_report"
   ]
  },
  {
   "cell_type": "markdown",
   "metadata": {},
   "source": [
    "## Loading data"
   ]
  },
  {
   "cell_type": "code",
   "execution_count": 2,
   "metadata": {},
   "outputs": [
    {
     "data": {
      "text/plain": [
       "Unhealthy    432\n",
       "Healthy       77\n",
       "Name: Reason, dtype: int64"
      ]
     },
     "execution_count": 2,
     "metadata": {},
     "output_type": "execute_result"
    }
   ],
   "source": [
    "#loading data\n",
    "\n",
    "df= pd.read_csv('dataforml.csv')\n",
    "df.head()\n",
    "\n",
    "df['Reason'].value_counts() #dataset imbalanced\n",
    "#df['Gender'].value_counts()\n",
    "\n",
    "\n"
   ]
  },
  {
   "cell_type": "markdown",
   "metadata": {},
   "source": [
    "## One-hot encoding"
   ]
  },
  {
   "cell_type": "code",
   "execution_count": 3,
   "metadata": {
    "scrolled": true
   },
   "outputs": [],
   "source": [
    "#data processing\n",
    "df = pd.get_dummies(df,columns = ['Gender']) #categorical data converted to numerical\n",
    "#df.head()"
   ]
  },
  {
   "cell_type": "markdown",
   "metadata": {},
   "source": [
    "## Splitting Datasets"
   ]
  },
  {
   "cell_type": "code",
   "execution_count": 4,
   "metadata": {},
   "outputs": [],
   "source": [
    "#splitting target and features\n",
    "\n",
    "X = df.drop(columns=[\"Reason\",\"Fileno\"],axis=1)\n",
    "Y = df[\"Reason\"]\n",
    "\n",
    "from sklearn.model_selection import train_test_split\n",
    "X_train, X_test, Y_train, Y_test = train_test_split(X, Y, test_size=0.2, random_state = 100)\n"
   ]
  },
  {
   "cell_type": "markdown",
   "metadata": {},
   "source": [
    "# Selection of Features"
   ]
  },
  {
   "cell_type": "code",
   "execution_count": 5,
   "metadata": {},
   "outputs": [
    {
     "data": {
      "image/png": "[encoded data removed]",
      "text/plain": [
       "<Figure size 432x288 with 1 Axes>"
      ]
     },
     "metadata": {
      "needs_background": "light"
     },
     "output_type": "display_data"
    }
   ],
   "source": [
    "#using information gain method\n",
    "from sklearn.feature_selection import mutual_info_classif\n",
    "import matplotlib.pyplot as plt\n",
    "%matplotlib inline\n",
    "\n",
    "importances = mutual_info_classif(X,Y)\n",
    "feat_importances = pd.Series(importances,df.columns[1:len(df.columns)-1])\n",
    "feat_importances.plot(kind='barh',color='teal')\n",
    "plt.show()"
   ]
  },
  {
   "cell_type": "markdown",
   "metadata": {},
   "source": [
    "## Logistic Regression"
   ]
  },
  {
   "cell_type": "code",
   "execution_count": 6,
   "metadata": {
    "scrolled": true
   },
   "outputs": [],
   "source": [
    "#logisticregression\n",
    "#model= LogisticRegression(max_iter=3000)\n",
    "#model.fit(X_train, Y_train)"
   ]
  },
  {
   "cell_type": "markdown",
   "metadata": {},
   "source": [
    "## Decision Tree"
   ]
  },
  {
   "cell_type": "code",
   "execution_count": 7,
   "metadata": {},
   "outputs": [],
   "source": [
    "#model= DecisionTreeClassifier() \n",
    "#model.fit(X_train, Y_train)"
   ]
  },
  {
   "cell_type": "markdown",
   "metadata": {},
   "source": [
    "## Random Forest"
   ]
  },
  {
   "cell_type": "code",
   "execution_count": 8,
   "metadata": {},
   "outputs": [
    {
     "data": {
      "text/plain": [
       "RandomForestClassifier()"
      ]
     },
     "execution_count": 8,
     "metadata": {},
     "output_type": "execute_result"
    }
   ],
   "source": [
    "model= RandomForestClassifier()\n",
    "model.fit(X_train, Y_train)\n"
   ]
  },
  {
   "cell_type": "markdown",
   "metadata": {},
   "source": [
    "## Naive Bayes"
   ]
  },
  {
   "cell_type": "code",
   "execution_count": 9,
   "metadata": {},
   "outputs": [],
   "source": [
    "#model= GaussianNB()\n",
    "#model.fit(X_train, Y_train)\n"
   ]
  },
  {
   "cell_type": "markdown",
   "metadata": {},
   "source": [
    "## Pipeline : Cross Validation + Handle imbalanced data"
   ]
  },
  {
   "cell_type": "code",
   "execution_count": 10,
   "metadata": {},
   "outputs": [
    {
     "name": "stdout",
     "output_type": "stream",
     "text": [
      "Mean ROC AUC: 0.910\n"
     ]
    }
   ],
   "source": [
    "from numpy import mean\n",
    "from sklearn.datasets import make_classification\n",
    "from sklearn.model_selection import cross_val_score\n",
    "from sklearn.model_selection import RepeatedStratifiedKFold\n",
    "from sklearn.tree import DecisionTreeClassifier\n",
    "from imblearn.pipeline import Pipeline\n",
    "from imblearn.over_sampling import ADASYN\n",
    "from sklearn.feature_selection import SelectKBest, mutual_info_classif\n",
    "from sklearn.feature_selection import SelectFromModel\n",
    "from sklearn.svm import LinearSVC\n",
    "from sklearn.model_selection import GridSearchCV\n",
    "\n",
    "# define dataset\n",
    "X, Y = make_classification(n_samples=10000, n_features=2, n_redundant=0,\n",
    "    n_clusters_per_class=1, weights=[0.99], flip_y=0, random_state=1)\n",
    "\n",
    "# define pipeline\n",
    "steps = [('over', ADASYN()),('model', model)]\n",
    "pipeline = Pipeline(steps=steps)\n",
    "\n",
    "# evaluate pipeline\n",
    "cv = RepeatedStratifiedKFold(n_splits=10, n_repeats=3, random_state=1)\n",
    "scores = cross_val_score(pipeline, X, Y, scoring='roc_auc', cv=cv, n_jobs=-1)\n",
    "score =  mean((scores))\n",
    "\n",
    "\n",
    "print('Mean ROC AUC: %.3f' % mean(scores))"
   ]
  },
  {
   "cell_type": "markdown",
   "metadata": {},
   "source": [
    "## Cross Validation"
   ]
  },
  {
   "cell_type": "code",
   "execution_count": 11,
   "metadata": {},
   "outputs": [],
   "source": [
    "#accuracy=[]\n",
    "#skf= StratifiedKFold(n_splits=10,random_state=None)\n",
    "#skf.get_n_splits(X,Y)\n",
    "#\n",
    "##accuracy list of splits\n",
    "#for train_index, test_index in skf.split(X,Y):\n",
    "#    print(\"Train\\n\", train_index, \"\\nValidation\\n\", test_index)\n",
    "#    X1_train,X1_test=X.iloc[train_index],X.iloc[test_index]\n",
    "#    Y1_train,Y1_test=Y.iloc[train_index],Y.iloc[test_index]\n",
    "#    \n",
    "#                            \n",
    "#    model.fit(X_train, Y_train)\n",
    "#    prediction=model.predict(X_test)\n",
    "#    score=accuracy_score(prediction,Y_test)\n",
    "#    accuracy.append(score)\n",
    "#                            \n",
    "#np.array(accuracy).mean()"
   ]
  },
  {
   "cell_type": "markdown",
   "metadata": {},
   "source": [
    "## Handling Imbalanced Data : ADASYN"
   ]
  },
  {
   "cell_type": "code",
   "execution_count": 12,
   "metadata": {},
   "outputs": [],
   "source": [
    "#oversample = ADASYN()\n",
    "#X_train, Y_train = oversample.fit_resample(X, Y)\n",
    "#\n",
    "#Y_train.value_counts()\n",
    "#"
   ]
  },
  {
   "cell_type": "markdown",
   "metadata": {},
   "source": [
    "## Model Evaluation"
   ]
  },
  {
   "cell_type": "code",
   "execution_count": 13,
   "metadata": {
    "scrolled": true
   },
   "outputs": [
    {
     "name": "stdout",
     "output_type": "stream",
     "text": [
      "Unhealthy    432\n",
      "Healthy       77\n",
      "Name: Reason, dtype: int64\n",
      "[[ 9  3]\n",
      " [ 5 85]]\n",
      "              precision    recall  f1-score   support\n",
      "\n",
      "     Healthy       0.75      0.64      0.69        14\n",
      "   Unhealthy       0.94      0.97      0.96        88\n",
      "\n",
      "    accuracy                           0.92       102\n",
      "   macro avg       0.85      0.80      0.82       102\n",
      "weighted avg       0.92      0.92      0.92       102\n",
      "\n",
      "accuracy of GAUSSIAN NAIVE BAYES :  0.9215686274509803\n"
     ]
    }
   ],
   "source": [
    "#confusion matrix\n",
    "model.fit(X_train, Y_train)\n",
    "prediction=model.predict(X_test)\n",
    "print(df['Reason'].value_counts())\n",
    "\n",
    "print(confusion_matrix(prediction, Y_test))\n",
    "\n",
    "print(classification_report(Y_test,prediction))\n",
    "\n",
    "#accuracy score\n",
    "\n",
    "accuracy = accuracy_score(Y_test, prediction)\n",
    "print(\"accuracy of GAUSSIAN NAIVE BAYES : \",accuracy) \n"
   ]
  },
  {
   "cell_type": "code",
   "execution_count": 14,
   "metadata": {},
   "outputs": [
    {
     "data": {
      "image/png": "[encoded data removed]",
      "text/plain": [
       "<Figure size 720x504 with 2 Axes>"
      ]
     },
     "metadata": {
      "needs_background": "light"
     },
     "output_type": "display_data"
    }
   ],
   "source": [
    "cm= confusion_matrix(prediction, Y_test)\n",
    "plt.figure(figsize=(10,7))\n",
    "p = sns.heatmap(cm, annot=True, cmap=\"Reds\", fmt='g')\n",
    "plt.title('Confusion matrix : GAUSSIAN NAIVE BAYES  - Heart Disease')\n",
    "plt.xlabel('Predicted Values')\n",
    "plt.ylabel('Actual Values')\n",
    "plt.show()\n"
   ]
  },
  {
   "cell_type": "code",
   "execution_count": 15,
   "metadata": {},
   "outputs": [],
   "source": [
    "#TRAIN\n",
    "#from sklearn.metrics import classification_report\n",
    "#X_train_prediction = model.predict(X_train)\n",
    "#training_accuracy = accuracy_score(X_train_prediction, Y_train)\n",
    "#print(confusion_matrix(X_train_prediction, Y_train))\n",
    "#print(classification_report(X_train_prediction, Y_train))\n",
    "#scores= cross_val_score(model,X, Y, cv=cv, scoring='accuracy').mean()\n",
    "#print('Accuracy: ',scores)\n",
    "#print(f\"Error Mean: {np.mean(scores)} Error std: {np.std(scores)}\")\n",
    "\n"
   ]
  },
  {
   "cell_type": "code",
   "execution_count": 16,
   "metadata": {},
   "outputs": [],
   "source": [
    "#TEST\n",
    "#from sklearn.metrics import classification_report\n",
    "#X_test_prediction = model.predict(X_test)\n",
    "#testing_accuracy = accuracy_score(X_test_prediction, Y_test)\n",
    "#print(confusion_matrix(X_test_prediction, Y_test))\n",
    "#print(classification_report(X_test_prediction, Y_test))\n",
    "#scores= cross_val_score(model,X, Y, cv=cv, scoring='accuracy').mean()\n",
    "#print('Accuracy: ',scores)\n",
    "#print(f\"Error Mean: {np.mean(scores)} Error std: {np.std(scores)}\")\n"
   ]
  },
  {
   "cell_type": "code",
   "execution_count": null,
   "metadata": {},
   "outputs": [],
   "source": []
  }
 ],
 "metadata": {
  "kernelspec": {
   "display_name": "Python 3",
   "language": "python",
   "name": "python3"
  },
  "language_info": {
   "codemirror_mode": {
    "name": "ipython",
    "version": 3
   },
   "file_extension": ".py",
   "mimetype": "text/x-python",
   "name": "python",
   "nbconvert_exporter": "python",
   "pygments_lexer": "ipython3",
   "version": "3.7.7"
  }
 },
 "nbformat": 4,
 "nbformat_minor": 2
}
